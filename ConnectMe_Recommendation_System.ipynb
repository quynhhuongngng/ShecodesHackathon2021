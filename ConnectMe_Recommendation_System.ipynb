{
  "nbformat": 4,
  "nbformat_minor": 0,
  "metadata": {
    "colab": {
      "name": "ConnectMe_Recommendation_System.ipynb",
      "provenance": [],
      "include_colab_link": true
    },
    "kernelspec": {
      "name": "python3",
      "display_name": "Python 3"
    },
    "language_info": {
      "name": "python"
    },
    "accelerator": "GPU"
  },
  "cells": [
    {
      "cell_type": "markdown",
      "metadata": {
        "id": "view-in-github",
        "colab_type": "text"
      },
      "source": [
        "<a href=\"https://colab.research.google.com/github/quynhhuongngng/ShecodesHackathon2021/blob/main/ConnectMe_Recommendation_System.ipynb\" target=\"_parent\"><img src=\"https://colab.research.google.com/assets/colab-badge.svg\" alt=\"Open In Colab\"/></a>"
      ]
    },
    {
      "cell_type": "markdown",
      "metadata": {
        "id": "V1Edlu4IVI7c"
      },
      "source": [
        "# 1. Library"
      ]
    },
    {
      "cell_type": "code",
      "metadata": {
        "id": "2yti-2aiUk9k"
      },
      "source": [
        "import numpy as np # linear algebra\n",
        "import pandas as pd # data processing, CSV file I/O (e.g. pd.read_csv)\n",
        "import matplotlib.pyplot as plt\n",
        "import seaborn as sns\n",
        "import plotly.express as px"
      ],
      "execution_count": null,
      "outputs": []
    },
    {
      "cell_type": "markdown",
      "metadata": {
        "id": "kKnQCmGZVUfY"
      },
      "source": [
        "# 2. Load data"
      ]
    },
    {
      "cell_type": "code",
      "metadata": {
        "colab": {
          "base_uri": "https://localhost:8080/"
        },
        "id": "bhAuILWQVUG1",
        "outputId": "5683b27a-6afd-4112-8a17-6e0f6b671458"
      },
      "source": [
        "!gdown https://drive.google.com/uc?id=1sDbn2nK8iDv2COKuXPyWVgwrYfAwXtNp\n",
        "!gdown https://drive.google.com/uc?id=1zHVGLDLSbBSveXcHHDu5CV_cAtEneMPM\n",
        "!gdown https://drive.google.com/uc?id=1evDdPDCJ13bp0IpQ4VQVRFQtYDo0l9fq\n",
        "!gdown https://drive.google.com/uc?id=1ZOQPIxscTc74yGrMldRvTr-RD69DL8Hu"
      ],
      "execution_count": null,
      "outputs": [
        {
          "output_type": "stream",
          "text": [
            "Downloading...\n",
            "From: https://drive.google.com/uc?id=1YMAOthfEkpoN5gSnMNZKrFmIiIKCxhO-\n",
            "To: /content/HKK.csv\n",
            "100% 357/357 [00:00<00:00, 658kB/s]\n",
            "Downloading...\n",
            "From: https://drive.google.com/uc?id=1zHVGLDLSbBSveXcHHDu5CV_cAtEneMPM\n",
            "To: /content/MTQ.csv\n",
            "100% 181/181 [00:00<00:00, 309kB/s]\n",
            "Downloading...\n",
            "From: https://drive.google.com/uc?id=1O6h2iY_8rx0nXM_RjBvDlW2vkbiZN3Z0\n",
            "To: /content/Rating.csv\n",
            "100% 802/802 [00:00<00:00, 1.32MB/s]\n",
            "Downloading...\n",
            "From: https://drive.google.com/uc?id=1ZOQPIxscTc74yGrMldRvTr-RD69DL8Hu\n",
            "To: /content/VP.csv\n",
            "100% 115/115 [00:00<00:00, 103kB/s]\n"
          ],
          "name": "stdout"
        }
      ]
    },
    {
      "cell_type": "code",
      "metadata": {
        "id": "hCbJgmdIVPlb"
      },
      "source": [
        "df1 = pd.read_csv('/content/Rating.csv', dtype=str)\n",
        "df2 = pd.read_csv('/content/HKK.csv', dtype=str)\n",
        "df3 = pd.read_csv('/content/MTQ.csv', dtype=str)"
      ],
      "execution_count": null,
      "outputs": []
    },
    {
      "cell_type": "code",
      "metadata": {
        "colab": {
          "base_uri": "https://localhost:8080/",
          "height": 202
        },
        "id": "C0q33xXAcS_1",
        "outputId": "5a1f7f9d-778b-478d-c0ae-c7eb270b6de5"
      },
      "source": [
        "df1.head()"
      ],
      "execution_count": null,
      "outputs": [
        {
          "output_type": "execute_result",
          "data": {
            "text/html": [
              "<div>\n",
              "<style scoped>\n",
              "    .dataframe tbody tr th:only-of-type {\n",
              "        vertical-align: middle;\n",
              "    }\n",
              "\n",
              "    .dataframe tbody tr th {\n",
              "        vertical-align: top;\n",
              "    }\n",
              "\n",
              "    .dataframe thead th {\n",
              "        text-align: right;\n",
              "    }\n",
              "</style>\n",
              "<table border=\"1\" class=\"dataframe\">\n",
              "  <thead>\n",
              "    <tr style=\"text-align: right;\">\n",
              "      <th></th>\n",
              "      <th>ID_HKK</th>\n",
              "      <th>ID_MTQ</th>\n",
              "      <th>Rating</th>\n",
              "    </tr>\n",
              "  </thead>\n",
              "  <tbody>\n",
              "    <tr>\n",
              "      <th>0</th>\n",
              "      <td>00000000001</td>\n",
              "      <td>5900000001</td>\n",
              "      <td>5</td>\n",
              "    </tr>\n",
              "    <tr>\n",
              "      <th>1</th>\n",
              "      <td>00000000002</td>\n",
              "      <td>5900000001</td>\n",
              "      <td>4</td>\n",
              "    </tr>\n",
              "    <tr>\n",
              "      <th>2</th>\n",
              "      <td>00000000003</td>\n",
              "      <td>5900000001</td>\n",
              "      <td>4</td>\n",
              "    </tr>\n",
              "    <tr>\n",
              "      <th>3</th>\n",
              "      <td>00000000004</td>\n",
              "      <td>5900000003</td>\n",
              "      <td>5</td>\n",
              "    </tr>\n",
              "    <tr>\n",
              "      <th>4</th>\n",
              "      <td>00000000005</td>\n",
              "      <td>5900000005</td>\n",
              "      <td>5</td>\n",
              "    </tr>\n",
              "  </tbody>\n",
              "</table>\n",
              "</div>"
            ],
            "text/plain": [
              "        ID_HKK      ID_MTQ Rating\n",
              "0  00000000001  5900000001      5\n",
              "1  00000000002  5900000001      4\n",
              "2  00000000003  5900000001      4\n",
              "3  00000000004  5900000003      5\n",
              "4  00000000005  5900000005      5"
            ]
          },
          "metadata": {
            "tags": []
          },
          "execution_count": 47
        }
      ]
    },
    {
      "cell_type": "code",
      "metadata": {
        "id": "9aY04UHrhweK"
      },
      "source": [
        "df1['Rating'] = df1['Rating'].astype('uint8')"
      ],
      "execution_count": null,
      "outputs": []
    },
    {
      "cell_type": "code",
      "metadata": {
        "colab": {
          "base_uri": "https://localhost:8080/"
        },
        "id": "GTR3f2RSh3ni",
        "outputId": "efd1d4ca-ec63-46d5-cee6-29896a45da9b"
      },
      "source": [
        "df1.dtypes"
      ],
      "execution_count": null,
      "outputs": [
        {
          "output_type": "execute_result",
          "data": {
            "text/plain": [
              "ID_HKK    object\n",
              "ID_MTQ    object\n",
              "Rating     uint8\n",
              "dtype: object"
            ]
          },
          "metadata": {
            "tags": []
          },
          "execution_count": 49
        }
      ]
    },
    {
      "cell_type": "code",
      "metadata": {
        "colab": {
          "base_uri": "https://localhost:8080/",
          "height": 202
        },
        "id": "ejm9EyCCcUm-",
        "outputId": "b9cc55b8-0cb9-4b2f-f8f9-584273509973"
      },
      "source": [
        "df2.head()"
      ],
      "execution_count": null,
      "outputs": [
        {
          "output_type": "execute_result",
          "data": {
            "text/html": [
              "<div>\n",
              "<style scoped>\n",
              "    .dataframe tbody tr th:only-of-type {\n",
              "        vertical-align: middle;\n",
              "    }\n",
              "\n",
              "    .dataframe tbody tr th {\n",
              "        vertical-align: top;\n",
              "    }\n",
              "\n",
              "    .dataframe thead th {\n",
              "        text-align: right;\n",
              "    }\n",
              "</style>\n",
              "<table border=\"1\" class=\"dataframe\">\n",
              "  <thead>\n",
              "    <tr style=\"text-align: right;\">\n",
              "      <th></th>\n",
              "      <th>ID_HKK</th>\n",
              "      <th>VATPHAM</th>\n",
              "    </tr>\n",
              "  </thead>\n",
              "  <tbody>\n",
              "    <tr>\n",
              "      <th>0</th>\n",
              "      <td>00000000001</td>\n",
              "      <td>VP01</td>\n",
              "    </tr>\n",
              "    <tr>\n",
              "      <th>1</th>\n",
              "      <td>00000000002</td>\n",
              "      <td>VP01</td>\n",
              "    </tr>\n",
              "    <tr>\n",
              "      <th>2</th>\n",
              "      <td>00000000003</td>\n",
              "      <td>VP01</td>\n",
              "    </tr>\n",
              "    <tr>\n",
              "      <th>3</th>\n",
              "      <td>00000000004</td>\n",
              "      <td>VP02</td>\n",
              "    </tr>\n",
              "    <tr>\n",
              "      <th>4</th>\n",
              "      <td>00000000005</td>\n",
              "      <td>VP01</td>\n",
              "    </tr>\n",
              "  </tbody>\n",
              "</table>\n",
              "</div>"
            ],
            "text/plain": [
              "        ID_HKK VATPHAM\n",
              "0  00000000001    VP01\n",
              "1  00000000002    VP01\n",
              "2  00000000003    VP01\n",
              "3  00000000004    VP02\n",
              "4  00000000005    VP01"
            ]
          },
          "metadata": {
            "tags": []
          },
          "execution_count": 50
        }
      ]
    },
    {
      "cell_type": "code",
      "metadata": {
        "colab": {
          "base_uri": "https://localhost:8080/",
          "height": 202
        },
        "id": "sGj8IZCqcVw0",
        "outputId": "865e0b6f-1b7a-46c1-c78b-533ba0b5401d"
      },
      "source": [
        "df3.head()"
      ],
      "execution_count": null,
      "outputs": [
        {
          "output_type": "execute_result",
          "data": {
            "text/html": [
              "<div>\n",
              "<style scoped>\n",
              "    .dataframe tbody tr th:only-of-type {\n",
              "        vertical-align: middle;\n",
              "    }\n",
              "\n",
              "    .dataframe tbody tr th {\n",
              "        vertical-align: top;\n",
              "    }\n",
              "\n",
              "    .dataframe thead th {\n",
              "        text-align: right;\n",
              "    }\n",
              "</style>\n",
              "<table border=\"1\" class=\"dataframe\">\n",
              "  <thead>\n",
              "    <tr style=\"text-align: right;\">\n",
              "      <th></th>\n",
              "      <th>ID_MTQ</th>\n",
              "      <th>VATPHAM</th>\n",
              "    </tr>\n",
              "  </thead>\n",
              "  <tbody>\n",
              "    <tr>\n",
              "      <th>0</th>\n",
              "      <td>5900000001</td>\n",
              "      <td>VP01</td>\n",
              "    </tr>\n",
              "    <tr>\n",
              "      <th>1</th>\n",
              "      <td>5900000002</td>\n",
              "      <td>VP01</td>\n",
              "    </tr>\n",
              "    <tr>\n",
              "      <th>2</th>\n",
              "      <td>5900000003</td>\n",
              "      <td>VP02</td>\n",
              "    </tr>\n",
              "    <tr>\n",
              "      <th>3</th>\n",
              "      <td>5900000004</td>\n",
              "      <td>VP03</td>\n",
              "    </tr>\n",
              "    <tr>\n",
              "      <th>4</th>\n",
              "      <td>5900000005</td>\n",
              "      <td>VP01</td>\n",
              "    </tr>\n",
              "  </tbody>\n",
              "</table>\n",
              "</div>"
            ],
            "text/plain": [
              "       ID_MTQ VATPHAM\n",
              "0  5900000001    VP01\n",
              "1  5900000002    VP01\n",
              "2  5900000003    VP02\n",
              "3  5900000004    VP03\n",
              "4  5900000005    VP01"
            ]
          },
          "metadata": {
            "tags": []
          },
          "execution_count": 51
        }
      ]
    },
    {
      "cell_type": "code",
      "metadata": {
        "colab": {
          "base_uri": "https://localhost:8080/"
        },
        "id": "40bX4K2EcXO5",
        "outputId": "04f999fc-cf9d-4e08-f309-b2733a9cf563"
      },
      "source": [
        "df1.info()"
      ],
      "execution_count": null,
      "outputs": [
        {
          "output_type": "stream",
          "text": [
            "<class 'pandas.core.frame.DataFrame'>\n",
            "RangeIndex: 25 entries, 0 to 24\n",
            "Data columns (total 3 columns):\n",
            " #   Column  Non-Null Count  Dtype \n",
            "---  ------  --------------  ----- \n",
            " 0   ID_HKK  25 non-null     object\n",
            " 1   ID_MTQ  25 non-null     object\n",
            " 2   Rating  25 non-null     uint8 \n",
            "dtypes: object(2), uint8(1)\n",
            "memory usage: 553.0+ bytes\n"
          ],
          "name": "stdout"
        }
      ]
    },
    {
      "cell_type": "code",
      "metadata": {
        "colab": {
          "base_uri": "https://localhost:8080/"
        },
        "id": "S3MMh54bcZPw",
        "outputId": "04d9b23a-3d9d-499f-8b24-5f05ae20962a"
      },
      "source": [
        "df2.info()"
      ],
      "execution_count": null,
      "outputs": [
        {
          "output_type": "stream",
          "text": [
            "<class 'pandas.core.frame.DataFrame'>\n",
            "RangeIndex: 16 entries, 0 to 15\n",
            "Data columns (total 2 columns):\n",
            " #   Column   Non-Null Count  Dtype \n",
            "---  ------   --------------  ----- \n",
            " 0   ID_HKK   16 non-null     object\n",
            " 1   VATPHAM  16 non-null     object\n",
            "dtypes: object(2)\n",
            "memory usage: 384.0+ bytes\n"
          ],
          "name": "stdout"
        }
      ]
    },
    {
      "cell_type": "code",
      "metadata": {
        "colab": {
          "base_uri": "https://localhost:8080/"
        },
        "id": "ZHSdZs5Gca4a",
        "outputId": "df742a45-b8ec-41c4-e804-fb4188377f4d"
      },
      "source": [
        "df3.info()"
      ],
      "execution_count": null,
      "outputs": [
        {
          "output_type": "stream",
          "text": [
            "<class 'pandas.core.frame.DataFrame'>\n",
            "RangeIndex: 13 entries, 0 to 12\n",
            "Data columns (total 2 columns):\n",
            " #   Column   Non-Null Count  Dtype \n",
            "---  ------   --------------  ----- \n",
            " 0   ID_MTQ   6 non-null      object\n",
            " 1   VATPHAM  6 non-null      object\n",
            "dtypes: object(2)\n",
            "memory usage: 336.0+ bytes\n"
          ],
          "name": "stdout"
        }
      ]
    },
    {
      "cell_type": "markdown",
      "metadata": {
        "id": "Bu5OW8pMdrsd"
      },
      "source": [
        "# Recommendor 1 : Demographic Filtering"
      ]
    },
    {
      "cell_type": "markdown",
      "metadata": {
        "id": "Lt4ATivGd6WC"
      },
      "source": [
        "1. Top các trường hợp khó khăn đáng chú ý nhất"
      ]
    },
    {
      "cell_type": "code",
      "metadata": {
        "colab": {
          "base_uri": "https://localhost:8080/",
          "height": 328
        },
        "id": "1M0ATit6cdWW",
        "outputId": "b7046402-524a-4250-d946-d6079e0eb145"
      },
      "source": [
        "data = df1.groupby('ID_HKK').agg(['mean', 'count'])['Rating'].reset_index()\n",
        "# tạo điểm dựa trên xếp hạng trung bình và rating của mạnh thường quân được xếp hạng\n",
        "m = data['count'].quantile(0.5) # phiếu bầu tối thiểu cần thiết để được liệt kê trong Top 250\n",
        "data = data[data['count']>m]\n",
        "print('m =', m)\n",
        "print(data.shape)\n",
        "R = data['mean'] # Trung bình rating\n",
        "v = data['count'] # Tổng số rating\n",
        "C = data['mean'].mean() \n",
        "data['weighted rating'] = (v/(v+m))*R + (m/(v+m))*C\n",
        "data = data.sort_values('weighted rating', ascending=False).reset_index(drop=True)\n",
        "\n",
        "\n",
        "data = pd.merge(data, df2, on='ID_HKK')[['ID_HKK', 'VATPHAM', 'mean', 'count', 'weighted rating', \n",
        "                              ]].drop_duplicates('ID_HKK')\n",
        "data"
      ],
      "execution_count": null,
      "outputs": [
        {
          "output_type": "stream",
          "text": [
            "m = 1.5\n",
            "(8, 3)\n"
          ],
          "name": "stdout"
        },
        {
          "output_type": "execute_result",
          "data": {
            "text/html": [
              "<div>\n",
              "<style scoped>\n",
              "    .dataframe tbody tr th:only-of-type {\n",
              "        vertical-align: middle;\n",
              "    }\n",
              "\n",
              "    .dataframe tbody tr th {\n",
              "        vertical-align: top;\n",
              "    }\n",
              "\n",
              "    .dataframe thead th {\n",
              "        text-align: right;\n",
              "    }\n",
              "</style>\n",
              "<table border=\"1\" class=\"dataframe\">\n",
              "  <thead>\n",
              "    <tr style=\"text-align: right;\">\n",
              "      <th></th>\n",
              "      <th>ID_HKK</th>\n",
              "      <th>VATPHAM</th>\n",
              "      <th>mean</th>\n",
              "      <th>count</th>\n",
              "      <th>weighted rating</th>\n",
              "    </tr>\n",
              "  </thead>\n",
              "  <tbody>\n",
              "    <tr>\n",
              "      <th>0</th>\n",
              "      <td>00000000004</td>\n",
              "      <td>VP02</td>\n",
              "      <td>5.000000</td>\n",
              "      <td>2</td>\n",
              "      <td>4.767857</td>\n",
              "    </tr>\n",
              "    <tr>\n",
              "      <th>1</th>\n",
              "      <td>00000000014</td>\n",
              "      <td>VP01</td>\n",
              "      <td>5.000000</td>\n",
              "      <td>2</td>\n",
              "      <td>4.767857</td>\n",
              "    </tr>\n",
              "    <tr>\n",
              "      <th>2</th>\n",
              "      <td>00000000006</td>\n",
              "      <td>VP01</td>\n",
              "      <td>4.666667</td>\n",
              "      <td>3</td>\n",
              "      <td>4.597222</td>\n",
              "    </tr>\n",
              "    <tr>\n",
              "      <th>3</th>\n",
              "      <td>00000000001</td>\n",
              "      <td>VP01</td>\n",
              "      <td>4.500000</td>\n",
              "      <td>2</td>\n",
              "      <td>4.482143</td>\n",
              "    </tr>\n",
              "    <tr>\n",
              "      <th>4</th>\n",
              "      <td>00000000002</td>\n",
              "      <td>VP01</td>\n",
              "      <td>4.500000</td>\n",
              "      <td>2</td>\n",
              "      <td>4.482143</td>\n",
              "    </tr>\n",
              "    <tr>\n",
              "      <th>5</th>\n",
              "      <td>00000000005</td>\n",
              "      <td>VP01</td>\n",
              "      <td>4.500000</td>\n",
              "      <td>2</td>\n",
              "      <td>4.482143</td>\n",
              "    </tr>\n",
              "    <tr>\n",
              "      <th>6</th>\n",
              "      <td>00000000007</td>\n",
              "      <td>VP01</td>\n",
              "      <td>4.000000</td>\n",
              "      <td>2</td>\n",
              "      <td>4.196429</td>\n",
              "    </tr>\n",
              "    <tr>\n",
              "      <th>7</th>\n",
              "      <td>00000000008</td>\n",
              "      <td>VP02</td>\n",
              "      <td>3.500000</td>\n",
              "      <td>2</td>\n",
              "      <td>3.910714</td>\n",
              "    </tr>\n",
              "  </tbody>\n",
              "</table>\n",
              "</div>"
            ],
            "text/plain": [
              "        ID_HKK VATPHAM      mean  count  weighted rating\n",
              "0  00000000004    VP02  5.000000      2         4.767857\n",
              "1  00000000014    VP01  5.000000      2         4.767857\n",
              "2  00000000006    VP01  4.666667      3         4.597222\n",
              "3  00000000001    VP01  4.500000      2         4.482143\n",
              "4  00000000002    VP01  4.500000      2         4.482143\n",
              "5  00000000005    VP01  4.500000      2         4.482143\n",
              "6  00000000007    VP01  4.000000      2         4.196429\n",
              "7  00000000008    VP02  3.500000      2         3.910714"
            ]
          },
          "metadata": {
            "tags": []
          },
          "execution_count": 55
        }
      ]
    },
    {
      "cell_type": "markdown",
      "metadata": {
        "id": "dgt9dI89s7PJ"
      },
      "source": [
        "2. Top các nhà mạnh thường quân được tương tác mạnh nhất"
      ]
    },
    {
      "cell_type": "code",
      "metadata": {
        "colab": {
          "base_uri": "https://localhost:8080/",
          "height": 144
        },
        "id": "3TMv5ivtr1W1",
        "outputId": "1a64e7d1-0861-4c41-aee3-6e73053cb18d"
      },
      "source": [
        "data = df1.groupby('ID_MTQ').agg(['mean', 'count'])['Rating'].reset_index()\n",
        "# tạo điểm dựa trên xếp hạng trung bình và rating của mạnh thường quân được xếp hạng\n",
        "m = data['count'].quantile(0.5) # phiếu bầu tối thiểu cần thiết để được liệt kê trong Top 250\n",
        "data = data[data['count']>m]\n",
        "print('m =', m)\n",
        "print(data.shape)\n",
        "R = data['mean'] # Trung bình rating\n",
        "v = data['count'] # Tổng số rating\n",
        "C = data['mean'].mean() \n",
        "data['weighted rating'] = (v/(v+m))*R + (m/(v+m))*C\n",
        "data = data.sort_values('weighted rating', ascending=False).reset_index(drop=True)\n",
        "\n",
        "\n",
        "data = pd.merge(data, df3, on='ID_MTQ')[['ID_MTQ', 'VATPHAM', 'mean', 'count', 'weighted rating', \n",
        "                              ]].drop_duplicates('ID_MTQ')\n",
        "data\n"
      ],
      "execution_count": null,
      "outputs": [
        {
          "output_type": "stream",
          "text": [
            "m = 5.0\n",
            "(2, 3)\n"
          ],
          "name": "stdout"
        },
        {
          "output_type": "execute_result",
          "data": {
            "text/html": [
              "<div>\n",
              "<style scoped>\n",
              "    .dataframe tbody tr th:only-of-type {\n",
              "        vertical-align: middle;\n",
              "    }\n",
              "\n",
              "    .dataframe tbody tr th {\n",
              "        vertical-align: top;\n",
              "    }\n",
              "\n",
              "    .dataframe thead th {\n",
              "        text-align: right;\n",
              "    }\n",
              "</style>\n",
              "<table border=\"1\" class=\"dataframe\">\n",
              "  <thead>\n",
              "    <tr style=\"text-align: right;\">\n",
              "      <th></th>\n",
              "      <th>ID_MTQ</th>\n",
              "      <th>VATPHAM</th>\n",
              "      <th>mean</th>\n",
              "      <th>count</th>\n",
              "      <th>weighted rating</th>\n",
              "    </tr>\n",
              "  </thead>\n",
              "  <tbody>\n",
              "    <tr>\n",
              "      <th>0</th>\n",
              "      <td>5900000005</td>\n",
              "      <td>VP01</td>\n",
              "      <td>4.625000</td>\n",
              "      <td>8</td>\n",
              "      <td>4.614698</td>\n",
              "    </tr>\n",
              "    <tr>\n",
              "      <th>1</th>\n",
              "      <td>5900000001</td>\n",
              "      <td>VP01</td>\n",
              "      <td>4.571429</td>\n",
              "      <td>7</td>\n",
              "      <td>4.582589</td>\n",
              "    </tr>\n",
              "  </tbody>\n",
              "</table>\n",
              "</div>"
            ],
            "text/plain": [
              "       ID_MTQ VATPHAM      mean  count  weighted rating\n",
              "0  5900000005    VP01  4.625000      8         4.614698\n",
              "1  5900000001    VP01  4.571429      7         4.582589"
            ]
          },
          "metadata": {
            "tags": []
          },
          "execution_count": 56
        }
      ]
    },
    {
      "cell_type": "markdown",
      "metadata": {
        "id": "dCTFsU7KxZ2L"
      },
      "source": [
        "# Recommender 2: Collaborative Filtering"
      ]
    },
    {
      "cell_type": "code",
      "metadata": {
        "colab": {
          "base_uri": "https://localhost:8080/",
          "height": 817
        },
        "id": "kJdHxyJftwpC",
        "outputId": "7bb8bad9-5644-4fe3-cb0b-8ef4a5083f74"
      },
      "source": [
        "# merge df1 and df5 to get movie titles and drop rows for which title is not available\n",
        "data = pd.merge(df1, df3, on='ID_MTQ')\n",
        "\n",
        "# get total counts of no. of occurence of book\n",
        "data['count'] = data.groupby('ID_MTQ').transform('count')['ID_HKK']\n",
        "\n",
        "# fetch top 100 books based on count\n",
        "id_mtq = data.drop_duplicates('ID_MTQ').sort_values(\n",
        "    'count', ascending=False).iloc[:100]['ID_MTQ']\n",
        "\n",
        "# filter out data as per the ISBN\n",
        "data = data[data['ID_MTQ'].isin(id_mtq)].reset_index(drop=True)\n",
        "data"
      ],
      "execution_count": null,
      "outputs": [
        {
          "output_type": "execute_result",
          "data": {
            "text/html": [
              "<div>\n",
              "<style scoped>\n",
              "    .dataframe tbody tr th:only-of-type {\n",
              "        vertical-align: middle;\n",
              "    }\n",
              "\n",
              "    .dataframe tbody tr th {\n",
              "        vertical-align: top;\n",
              "    }\n",
              "\n",
              "    .dataframe thead th {\n",
              "        text-align: right;\n",
              "    }\n",
              "</style>\n",
              "<table border=\"1\" class=\"dataframe\">\n",
              "  <thead>\n",
              "    <tr style=\"text-align: right;\">\n",
              "      <th></th>\n",
              "      <th>ID_HKK</th>\n",
              "      <th>ID_MTQ</th>\n",
              "      <th>Rating</th>\n",
              "      <th>VATPHAM</th>\n",
              "      <th>count</th>\n",
              "    </tr>\n",
              "  </thead>\n",
              "  <tbody>\n",
              "    <tr>\n",
              "      <th>0</th>\n",
              "      <td>00000000001</td>\n",
              "      <td>5900000001</td>\n",
              "      <td>5</td>\n",
              "      <td>VP01</td>\n",
              "      <td>7</td>\n",
              "    </tr>\n",
              "    <tr>\n",
              "      <th>1</th>\n",
              "      <td>00000000002</td>\n",
              "      <td>5900000001</td>\n",
              "      <td>4</td>\n",
              "      <td>VP01</td>\n",
              "      <td>7</td>\n",
              "    </tr>\n",
              "    <tr>\n",
              "      <th>2</th>\n",
              "      <td>00000000003</td>\n",
              "      <td>5900000001</td>\n",
              "      <td>4</td>\n",
              "      <td>VP01</td>\n",
              "      <td>7</td>\n",
              "    </tr>\n",
              "    <tr>\n",
              "      <th>3</th>\n",
              "      <td>00000000014</td>\n",
              "      <td>5900000001</td>\n",
              "      <td>5</td>\n",
              "      <td>VP01</td>\n",
              "      <td>7</td>\n",
              "    </tr>\n",
              "    <tr>\n",
              "      <th>4</th>\n",
              "      <td>00000000004</td>\n",
              "      <td>5900000001</td>\n",
              "      <td>5</td>\n",
              "      <td>VP01</td>\n",
              "      <td>7</td>\n",
              "    </tr>\n",
              "    <tr>\n",
              "      <th>5</th>\n",
              "      <td>00000000005</td>\n",
              "      <td>5900000001</td>\n",
              "      <td>4</td>\n",
              "      <td>VP01</td>\n",
              "      <td>7</td>\n",
              "    </tr>\n",
              "    <tr>\n",
              "      <th>6</th>\n",
              "      <td>00000000006</td>\n",
              "      <td>5900000001</td>\n",
              "      <td>5</td>\n",
              "      <td>VP01</td>\n",
              "      <td>7</td>\n",
              "    </tr>\n",
              "    <tr>\n",
              "      <th>7</th>\n",
              "      <td>00000000004</td>\n",
              "      <td>5900000003</td>\n",
              "      <td>5</td>\n",
              "      <td>VP02</td>\n",
              "      <td>5</td>\n",
              "    </tr>\n",
              "    <tr>\n",
              "      <th>8</th>\n",
              "      <td>00000000008</td>\n",
              "      <td>5900000003</td>\n",
              "      <td>3</td>\n",
              "      <td>VP02</td>\n",
              "      <td>5</td>\n",
              "    </tr>\n",
              "    <tr>\n",
              "      <th>9</th>\n",
              "      <td>00000000009</td>\n",
              "      <td>5900000003</td>\n",
              "      <td>5</td>\n",
              "      <td>VP02</td>\n",
              "      <td>5</td>\n",
              "    </tr>\n",
              "    <tr>\n",
              "      <th>10</th>\n",
              "      <td>00000000015</td>\n",
              "      <td>5900000003</td>\n",
              "      <td>5</td>\n",
              "      <td>VP02</td>\n",
              "      <td>5</td>\n",
              "    </tr>\n",
              "    <tr>\n",
              "      <th>11</th>\n",
              "      <td>00000000006</td>\n",
              "      <td>5900000003</td>\n",
              "      <td>5</td>\n",
              "      <td>VP02</td>\n",
              "      <td>5</td>\n",
              "    </tr>\n",
              "    <tr>\n",
              "      <th>12</th>\n",
              "      <td>00000000005</td>\n",
              "      <td>5900000005</td>\n",
              "      <td>5</td>\n",
              "      <td>VP01</td>\n",
              "      <td>8</td>\n",
              "    </tr>\n",
              "    <tr>\n",
              "      <th>13</th>\n",
              "      <td>00000000006</td>\n",
              "      <td>5900000005</td>\n",
              "      <td>4</td>\n",
              "      <td>VP01</td>\n",
              "      <td>8</td>\n",
              "    </tr>\n",
              "    <tr>\n",
              "      <th>14</th>\n",
              "      <td>00000000012</td>\n",
              "      <td>5900000005</td>\n",
              "      <td>5</td>\n",
              "      <td>VP01</td>\n",
              "      <td>8</td>\n",
              "    </tr>\n",
              "    <tr>\n",
              "      <th>15</th>\n",
              "      <td>00000000013</td>\n",
              "      <td>5900000005</td>\n",
              "      <td>5</td>\n",
              "      <td>VP01</td>\n",
              "      <td>8</td>\n",
              "    </tr>\n",
              "    <tr>\n",
              "      <th>16</th>\n",
              "      <td>00000000008</td>\n",
              "      <td>5900000005</td>\n",
              "      <td>4</td>\n",
              "      <td>VP01</td>\n",
              "      <td>8</td>\n",
              "    </tr>\n",
              "    <tr>\n",
              "      <th>17</th>\n",
              "      <td>00000000001</td>\n",
              "      <td>5900000005</td>\n",
              "      <td>4</td>\n",
              "      <td>VP01</td>\n",
              "      <td>8</td>\n",
              "    </tr>\n",
              "    <tr>\n",
              "      <th>18</th>\n",
              "      <td>00000000002</td>\n",
              "      <td>5900000005</td>\n",
              "      <td>5</td>\n",
              "      <td>VP01</td>\n",
              "      <td>8</td>\n",
              "    </tr>\n",
              "    <tr>\n",
              "      <th>19</th>\n",
              "      <td>00000000007</td>\n",
              "      <td>5900000005</td>\n",
              "      <td>5</td>\n",
              "      <td>VP01</td>\n",
              "      <td>8</td>\n",
              "    </tr>\n",
              "    <tr>\n",
              "      <th>20</th>\n",
              "      <td>00000000007</td>\n",
              "      <td>5900000002</td>\n",
              "      <td>3</td>\n",
              "      <td>VP01</td>\n",
              "      <td>2</td>\n",
              "    </tr>\n",
              "    <tr>\n",
              "      <th>21</th>\n",
              "      <td>00000000014</td>\n",
              "      <td>5900000002</td>\n",
              "      <td>5</td>\n",
              "      <td>VP01</td>\n",
              "      <td>2</td>\n",
              "    </tr>\n",
              "    <tr>\n",
              "      <th>22</th>\n",
              "      <td>00000000010</td>\n",
              "      <td>5900000004</td>\n",
              "      <td>5</td>\n",
              "      <td>VP03</td>\n",
              "      <td>3</td>\n",
              "    </tr>\n",
              "    <tr>\n",
              "      <th>23</th>\n",
              "      <td>00000000011</td>\n",
              "      <td>5900000004</td>\n",
              "      <td>5</td>\n",
              "      <td>VP03</td>\n",
              "      <td>3</td>\n",
              "    </tr>\n",
              "    <tr>\n",
              "      <th>24</th>\n",
              "      <td>00000000016</td>\n",
              "      <td>5900000004</td>\n",
              "      <td>5</td>\n",
              "      <td>VP03</td>\n",
              "      <td>3</td>\n",
              "    </tr>\n",
              "  </tbody>\n",
              "</table>\n",
              "</div>"
            ],
            "text/plain": [
              "         ID_HKK      ID_MTQ  Rating VATPHAM  count\n",
              "0   00000000001  5900000001       5    VP01      7\n",
              "1   00000000002  5900000001       4    VP01      7\n",
              "2   00000000003  5900000001       4    VP01      7\n",
              "3   00000000014  5900000001       5    VP01      7\n",
              "4   00000000004  5900000001       5    VP01      7\n",
              "5   00000000005  5900000001       4    VP01      7\n",
              "6   00000000006  5900000001       5    VP01      7\n",
              "7   00000000004  5900000003       5    VP02      5\n",
              "8   00000000008  5900000003       3    VP02      5\n",
              "9   00000000009  5900000003       5    VP02      5\n",
              "10  00000000015  5900000003       5    VP02      5\n",
              "11  00000000006  5900000003       5    VP02      5\n",
              "12  00000000005  5900000005       5    VP01      8\n",
              "13  00000000006  5900000005       4    VP01      8\n",
              "14  00000000012  5900000005       5    VP01      8\n",
              "15  00000000013  5900000005       5    VP01      8\n",
              "16  00000000008  5900000005       4    VP01      8\n",
              "17  00000000001  5900000005       4    VP01      8\n",
              "18  00000000002  5900000005       5    VP01      8\n",
              "19  00000000007  5900000005       5    VP01      8\n",
              "20  00000000007  5900000002       3    VP01      2\n",
              "21  00000000014  5900000002       5    VP01      2\n",
              "22  00000000010  5900000004       5    VP03      3\n",
              "23  00000000011  5900000004       5    VP03      3\n",
              "24  00000000016  5900000004       5    VP03      3"
            ]
          },
          "metadata": {
            "tags": []
          },
          "execution_count": 57
        }
      ]
    },
    {
      "cell_type": "code",
      "metadata": {
        "colab": {
          "base_uri": "https://localhost:8080/"
        },
        "id": "IPb5SD4pyjZT",
        "outputId": "65440cf3-cb20-4b43-eb13-a05f27234b70"
      },
      "source": [
        "# tạo ma trận xếp hạng sách của MTQ\n",
        "df = data.pivot(index='ID_HKK', columns='ID_MTQ', values='Rating')\n",
        "print(df.head())\n",
        "print(data.shape)"
      ],
      "execution_count": null,
      "outputs": [
        {
          "output_type": "stream",
          "text": [
            "ID_MTQ       5900000001  5900000002  5900000003  5900000004  5900000005\n",
            "ID_HKK                                                                 \n",
            "00000000001         5.0         NaN         NaN         NaN         4.0\n",
            "00000000002         4.0         NaN         NaN         NaN         5.0\n",
            "00000000003         4.0         NaN         NaN         NaN         NaN\n",
            "00000000004         5.0         NaN         5.0         NaN         NaN\n",
            "00000000005         4.0         NaN         NaN         NaN         5.0\n",
            "(25, 5)\n"
          ],
          "name": "stdout"
        }
      ]
    },
    {
      "cell_type": "markdown",
      "metadata": {
        "id": "jKdWtPxN2FDi"
      },
      "source": [
        "Using Surpise Library"
      ]
    },
    {
      "cell_type": "code",
      "metadata": {
        "colab": {
          "base_uri": "https://localhost:8080/"
        },
        "id": "-XX9enf42KSy",
        "outputId": "a7f3aa08-74da-4482-fd9c-674d7e20bbc3"
      },
      "source": [
        "!pip install surprise"
      ],
      "execution_count": null,
      "outputs": [
        {
          "output_type": "stream",
          "text": [
            "Collecting surprise\n",
            "  Downloading surprise-0.1-py2.py3-none-any.whl (1.8 kB)\n",
            "Collecting scikit-surprise\n",
            "  Downloading scikit-surprise-1.1.1.tar.gz (11.8 MB)\n",
            "\u001b[K     |████████████████████████████████| 11.8 MB 50 kB/s \n",
            "\u001b[?25hRequirement already satisfied: joblib>=0.11 in /usr/local/lib/python3.7/dist-packages (from scikit-surprise->surprise) (1.0.1)\n",
            "Requirement already satisfied: numpy>=1.11.2 in /usr/local/lib/python3.7/dist-packages (from scikit-surprise->surprise) (1.19.5)\n",
            "Requirement already satisfied: scipy>=1.0.0 in /usr/local/lib/python3.7/dist-packages (from scikit-surprise->surprise) (1.4.1)\n",
            "Requirement already satisfied: six>=1.10.0 in /usr/local/lib/python3.7/dist-packages (from scikit-surprise->surprise) (1.15.0)\n",
            "Building wheels for collected packages: scikit-surprise\n",
            "  Building wheel for scikit-surprise (setup.py) ... \u001b[?25l\u001b[?25hdone\n",
            "  Created wheel for scikit-surprise: filename=scikit_surprise-1.1.1-cp37-cp37m-linux_x86_64.whl size=1619422 sha256=35b8adccb0f69ce0952f226425fd789d64bac44d44e09d02836bb8db514f6bf3\n",
            "  Stored in directory: /root/.cache/pip/wheels/76/44/74/b498c42be47b2406bd27994e16c5188e337c657025ab400c1c\n",
            "Successfully built scikit-surprise\n",
            "Installing collected packages: scikit-surprise, surprise\n",
            "Successfully installed scikit-surprise-1.1.1 surprise-0.1\n"
          ],
          "name": "stdout"
        }
      ]
    },
    {
      "cell_type": "code",
      "metadata": {
        "id": "1rmcHEmA1v_k"
      },
      "source": [
        "from surprise import Reader, Dataset, SVD\n",
        "from surprise.model_selection import train_test_split, cross_validate"
      ],
      "execution_count": null,
      "outputs": []
    },
    {
      "cell_type": "code",
      "metadata": {
        "id": "wRZ4DpnN2Ivm"
      },
      "source": [
        "reader = Reader(rating_scale=(0, 10))\n",
        "surprise_data = Dataset.load_from_df(data[['ID_HKK', 'ID_MTQ', 'Rating']], reader)\n",
        "trainset, testset = train_test_split(surprise_data, test_size=0.25)"
      ],
      "execution_count": null,
      "outputs": []
    },
    {
      "cell_type": "code",
      "metadata": {
        "colab": {
          "base_uri": "https://localhost:8080/",
          "height": 110
        },
        "id": "et0SkdUw2ZPe",
        "outputId": "df695dcf-d582-45c8-d603-f5e52fbc2173"
      },
      "source": [
        "benchmark = []\n",
        "# Lặp lại tất cả các thuật toán \n",
        "for algorithm in [SVD()]:\n",
        "    # Thực hiện cross validation\n",
        "    results = cross_validate(algorithm, surprise_data, measures=['RMSE'], cv=3, verbose=False)\n",
        "    \n",
        "    # Nhận kết quả và lưu trữ thuật toán\n",
        "    tmp = pd.DataFrame.from_dict(results).mean(axis=0)\n",
        "    tmp = tmp.append(pd.Series([str(algorithm).split(' ')[0].split('.')[-1]], index=['Algorithm']))\n",
        "    benchmark.append(tmp)\n",
        "    \n",
        "pd.DataFrame(benchmark).set_index('Algorithm').sort_values('test_rmse') "
      ],
      "execution_count": null,
      "outputs": [
        {
          "output_type": "execute_result",
          "data": {
            "text/html": [
              "<div>\n",
              "<style scoped>\n",
              "    .dataframe tbody tr th:only-of-type {\n",
              "        vertical-align: middle;\n",
              "    }\n",
              "\n",
              "    .dataframe tbody tr th {\n",
              "        vertical-align: top;\n",
              "    }\n",
              "\n",
              "    .dataframe thead th {\n",
              "        text-align: right;\n",
              "    }\n",
              "</style>\n",
              "<table border=\"1\" class=\"dataframe\">\n",
              "  <thead>\n",
              "    <tr style=\"text-align: right;\">\n",
              "      <th></th>\n",
              "      <th>test_rmse</th>\n",
              "      <th>fit_time</th>\n",
              "      <th>test_time</th>\n",
              "    </tr>\n",
              "    <tr>\n",
              "      <th>Algorithm</th>\n",
              "      <th></th>\n",
              "      <th></th>\n",
              "      <th></th>\n",
              "    </tr>\n",
              "  </thead>\n",
              "  <tbody>\n",
              "    <tr>\n",
              "      <th>SVD</th>\n",
              "      <td>0.642912</td>\n",
              "      <td>0.0041</td>\n",
              "      <td>0.000163</td>\n",
              "    </tr>\n",
              "  </tbody>\n",
              "</table>\n",
              "</div>"
            ],
            "text/plain": [
              "           test_rmse  fit_time  test_time\n",
              "Algorithm                                \n",
              "SVD         0.642912    0.0041   0.000163"
            ]
          },
          "metadata": {
            "tags": []
          },
          "execution_count": 69
        }
      ]
    },
    {
      "cell_type": "code",
      "metadata": {
        "colab": {
          "base_uri": "https://localhost:8080/"
        },
        "id": "r4cYiGvy2fAd",
        "outputId": "479c9f40-f794-4f03-e056-c48363204dec"
      },
      "source": [
        "svd = SVD() \n",
        "svd.fit(trainset)"
      ],
      "execution_count": null,
      "outputs": [
        {
          "output_type": "execute_result",
          "data": {
            "text/plain": [
              "<surprise.prediction_algorithms.matrix_factorization.SVD at 0x7f971b2f0f50>"
            ]
          },
          "metadata": {
            "tags": []
          },
          "execution_count": 70
        }
      ]
    },
    {
      "cell_type": "code",
      "metadata": {
        "colab": {
          "base_uri": "https://localhost:8080/",
          "height": 110
        },
        "id": "dwpuSTJQ2hLy",
        "outputId": "58ab2f87-c58d-492a-c0fb-1ea1d2c467b1"
      },
      "source": [
        "index_val = 5\n",
        "# get user id\n",
        "userId = df.index[index_val]\n",
        "books = []\n",
        "ratings = []\n",
        "titles = []\n",
        "\n",
        "for isbn in df.iloc[index_val][df.iloc[index_val].isna()].index:\n",
        "    books.append(isbn)\n",
        "    title = data[data['ID_MTQ']==isbn]['ID_MTQ'].values[0]\n",
        "    titles.append(title)\n",
        "    ratings.append(svd.predict(userId, isbn).est)\n",
        "\n",
        "prediction = pd.DataFrame({'ID_MTQ':books, 'Rating':ratings, 'ID_HKK':userId})  \n",
        "prediction = prediction.sort_values('Rating', ascending=False).iloc[:10].reset_index(drop=True)\n",
        "\n",
        "# get other high rated books by user\n",
        "temp = data[data['ID_HKK']==df.index[index_val]].sort_values(\n",
        "    'Rating', ascending=False)[['Rating','ID_MTQ', 'ID_HKK']].iloc[:10].reset_index(drop=True)\n",
        "prediction['ID_MTQ'] = temp['ID_MTQ']\n",
        "prediction['Rated']= temp['Rating']\n",
        "prediction"
      ],
      "execution_count": null,
      "outputs": [
        {
          "output_type": "execute_result",
          "data": {
            "text/html": [
              "<div>\n",
              "<style scoped>\n",
              "    .dataframe tbody tr th:only-of-type {\n",
              "        vertical-align: middle;\n",
              "    }\n",
              "\n",
              "    .dataframe tbody tr th {\n",
              "        vertical-align: top;\n",
              "    }\n",
              "\n",
              "    .dataframe thead th {\n",
              "        text-align: right;\n",
              "    }\n",
              "</style>\n",
              "<table border=\"1\" class=\"dataframe\">\n",
              "  <thead>\n",
              "    <tr style=\"text-align: right;\">\n",
              "      <th></th>\n",
              "      <th>ID_MTQ</th>\n",
              "      <th>Rating</th>\n",
              "      <th>ID_HKK</th>\n",
              "      <th>Rated</th>\n",
              "    </tr>\n",
              "  </thead>\n",
              "  <tbody>\n",
              "    <tr>\n",
              "      <th>0</th>\n",
              "      <td>5900000001</td>\n",
              "      <td>4.714156</td>\n",
              "      <td>00000000006</td>\n",
              "      <td>5</td>\n",
              "    </tr>\n",
              "    <tr>\n",
              "      <th>1</th>\n",
              "      <td>5900000003</td>\n",
              "      <td>4.623682</td>\n",
              "      <td>00000000006</td>\n",
              "      <td>5</td>\n",
              "    </tr>\n",
              "  </tbody>\n",
              "</table>\n",
              "</div>"
            ],
            "text/plain": [
              "       ID_MTQ    Rating       ID_HKK  Rated\n",
              "0  5900000001  4.714156  00000000006      5\n",
              "1  5900000003  4.623682  00000000006      5"
            ]
          },
          "metadata": {
            "tags": []
          },
          "execution_count": 79
        }
      ]
    },
    {
      "cell_type": "code",
      "metadata": {
        "colab": {
          "base_uri": "https://localhost:8080/",
          "height": 141
        },
        "id": "lFSPFHXU9IGQ",
        "outputId": "f3aa3462-34b0-419f-a1f6-e1bf2114dc7d"
      },
      "source": [
        "index_val = 3\n",
        "# get user id\n",
        "userId = df.index[index_val]\n",
        "books = []\n",
        "ratings = []\n",
        "titles = []\n",
        "\n",
        "for isbn in df.iloc[index_val][df.iloc[index_val].isna()].index:\n",
        "    books.append(isbn)\n",
        "    title = data[data['ID_MTQ']==isbn]['ID_MTQ'].values[0]\n",
        "    titles.append(title)\n",
        "    ratings.append(svd.predict(userId, isbn).est)\n",
        "\n",
        "prediction = pd.DataFrame({'ID_MTQ':books, 'Rating':ratings, 'ID_HKK':userId})  \n",
        "prediction = prediction.sort_values('Rating', ascending=False).iloc[:10].reset_index(drop=True)\n",
        "\n",
        "# get other high rated books by user\n",
        "temp = data[data['ID_HKK']==df.index[index_val]].sort_values(\n",
        "    'Rating', ascending=False)[['Rating','ID_MTQ', 'ID_HKK']].iloc[:10].reset_index(drop=True)\n",
        "prediction['ID_MTQ'] = temp['ID_MTQ']\n",
        "prediction['Rated']= temp['Rating']\n",
        "prediction"
      ],
      "execution_count": null,
      "outputs": [
        {
          "output_type": "execute_result",
          "data": {
            "text/html": [
              "<div>\n",
              "<style scoped>\n",
              "    .dataframe tbody tr th:only-of-type {\n",
              "        vertical-align: middle;\n",
              "    }\n",
              "\n",
              "    .dataframe tbody tr th {\n",
              "        vertical-align: top;\n",
              "    }\n",
              "\n",
              "    .dataframe thead th {\n",
              "        text-align: right;\n",
              "    }\n",
              "</style>\n",
              "<table border=\"1\" class=\"dataframe\">\n",
              "  <thead>\n",
              "    <tr style=\"text-align: right;\">\n",
              "      <th></th>\n",
              "      <th>ID_MTQ</th>\n",
              "      <th>Rating</th>\n",
              "      <th>ID_HKK</th>\n",
              "      <th>Rated</th>\n",
              "    </tr>\n",
              "  </thead>\n",
              "  <tbody>\n",
              "    <tr>\n",
              "      <th>0</th>\n",
              "      <td>5900000001</td>\n",
              "      <td>4.800684</td>\n",
              "      <td>00000000004</td>\n",
              "      <td>5.0</td>\n",
              "    </tr>\n",
              "    <tr>\n",
              "      <th>1</th>\n",
              "      <td>5900000003</td>\n",
              "      <td>4.618516</td>\n",
              "      <td>00000000004</td>\n",
              "      <td>5.0</td>\n",
              "    </tr>\n",
              "    <tr>\n",
              "      <th>2</th>\n",
              "      <td>NaN</td>\n",
              "      <td>4.470172</td>\n",
              "      <td>00000000004</td>\n",
              "      <td>NaN</td>\n",
              "    </tr>\n",
              "  </tbody>\n",
              "</table>\n",
              "</div>"
            ],
            "text/plain": [
              "       ID_MTQ    Rating       ID_HKK  Rated\n",
              "0  5900000001  4.800684  00000000004    5.0\n",
              "1  5900000003  4.618516  00000000004    5.0\n",
              "2         NaN  4.470172  00000000004    NaN"
            ]
          },
          "metadata": {
            "tags": []
          },
          "execution_count": 90
        }
      ]
    },
    {
      "cell_type": "markdown",
      "metadata": {
        "id": "jVVTToOJ6x_b"
      },
      "source": [
        "2. Using mean of other user' weighted ratings based on similarity matrix"
      ]
    },
    {
      "cell_type": "code",
      "metadata": {
        "id": "C3eU6vzv61CC"
      },
      "source": [
        "from sklearn.metrics.pairwise import cosine_similarity"
      ],
      "execution_count": null,
      "outputs": []
    },
    {
      "cell_type": "code",
      "metadata": {
        "id": "ZTxS-95V3fPk"
      },
      "source": [
        "# thay thế NaN bằng xếp hạng trung bình dựa trên người dùng trong khung dữ liệu tổng hợp\n",
        "df_imputed = df.fillna(df.mean(axis=0))\n",
        "\n",
        "# có được sự tương đồng giữa tất cả người dùng\n",
        "similarity_matrix = cosine_similarity(df_imputed.values)"
      ],
      "execution_count": null,
      "outputs": []
    },
    {
      "cell_type": "code",
      "metadata": {
        "id": "3VQ-2FP063VN"
      },
      "source": [
        "def get_recommendation(user_index):\n",
        "    idx = user_index\n",
        "    sim_scores = list(enumerate(similarity_matrix[idx]))\n",
        "\n",
        "    # nhận id những mạnh thường quân chưa được xếp hạng bởi người dùng nhất định\n",
        "    unrated_MTQ = df.iloc[idx][df.iloc[idx].isna()].index\n",
        "\n",
        "    # nhận xếp hạng có trọng số của sách chưa được xếp hạng bởi tất cả những người dùng khác\n",
        "    MTQ_ratings = (df[unrated_MTQ].T * similarity_matrix[idx]).T\n",
        "\n",
        "    # có được 100 người dùng tương tự hàng đầu bằng cách bỏ qua người dùng hiện tại\n",
        "    sim_scores = sorted(sim_scores, key=lambda x: x[1], reverse=True)[1:101]\n",
        "\n",
        "    # nhận được trung bình của xếp hạng mạnh thường quân bởi 100 người dùng \n",
        "    # tương tự nhất hàng đầu cho những mạnh thường quân chưa được xếp hạng\n",
        "    MTQ_ratings = MTQ_ratings.iloc[[x[0] for x in sim_scores]].mean()\n",
        "    \n",
        "    # loại bỏ các giá trị rỗng và sắp xếp nó dựa trên xếp hạng\n",
        "    MTQ_ratings = MTQ_ratings.reset_index().dropna().sort_values(0, ascending=False).iloc[:10]\n",
        "    \n",
        "    # nhận các đầu sách được đề xuất theo thứ tự đã sắp xếp\n",
        "    recommended_MTQ = data[data['ID_MTQ'].isin(MTQ_ratings['ID_MTQ'])][['ID_MTQ']]\n",
        "    recommended_MTQ = recommended_MTQ.drop_duplicates('ID_MTQ').reset_index(drop=True)\n",
        "    assumed_ratings = MTQ_ratings[0].reset_index(drop=True)\n",
        "\n",
        "    return pd.DataFrame({'ID_MTQ':recommended_MTQ['ID_MTQ'], \n",
        "                         'Assumed Rating':assumed_ratings})"
      ],
      "execution_count": null,
      "outputs": []
    },
    {
      "cell_type": "code",
      "metadata": {
        "colab": {
          "base_uri": "https://localhost:8080/",
          "height": 172
        },
        "id": "fR3K1bFY7tbJ",
        "outputId": "4388661d-d4a6-4f92-c7b0-3d4de437248d"
      },
      "source": [
        "user_index = 10\n",
        "recommended_MTQ = get_recommendation(user_index)\n",
        "# nhận được những mạnh thường quân được người dùng đánh giá cao khác\n",
        "temp = data[data['ID_HKK']==df.index[user_index]].sort_values(\n",
        "    'Rating', ascending=False)[['Rating', 'ID_MTQ', 'ID_HKK']].iloc[:10].reset_index(drop=True)\n",
        "recommended_MTQ['HKK'] = temp['ID_HKK']\n",
        "recommended_MTQ['MTQ'] = temp['ID_MTQ']\n",
        "recommended_MTQ['Rated']= temp['Rating']\n",
        "recommended_MTQ"
      ],
      "execution_count": null,
      "outputs": [
        {
          "output_type": "execute_result",
          "data": {
            "text/html": [
              "<div>\n",
              "<style scoped>\n",
              "    .dataframe tbody tr th:only-of-type {\n",
              "        vertical-align: middle;\n",
              "    }\n",
              "\n",
              "    .dataframe tbody tr th {\n",
              "        vertical-align: top;\n",
              "    }\n",
              "\n",
              "    .dataframe thead th {\n",
              "        text-align: right;\n",
              "    }\n",
              "</style>\n",
              "<table border=\"1\" class=\"dataframe\">\n",
              "  <thead>\n",
              "    <tr style=\"text-align: right;\">\n",
              "      <th></th>\n",
              "      <th>ID_MTQ</th>\n",
              "      <th>Assumed Rating</th>\n",
              "      <th>HKK</th>\n",
              "      <th>MTQ</th>\n",
              "      <th>Rated</th>\n",
              "    </tr>\n",
              "  </thead>\n",
              "  <tbody>\n",
              "    <tr>\n",
              "      <th>0</th>\n",
              "      <td>5900000001</td>\n",
              "      <td>4.609480</td>\n",
              "      <td>00000000011</td>\n",
              "      <td>5900000004</td>\n",
              "      <td>5.0</td>\n",
              "    </tr>\n",
              "    <tr>\n",
              "      <th>1</th>\n",
              "      <td>5900000003</td>\n",
              "      <td>4.587755</td>\n",
              "      <td>NaN</td>\n",
              "      <td>NaN</td>\n",
              "      <td>NaN</td>\n",
              "    </tr>\n",
              "    <tr>\n",
              "      <th>2</th>\n",
              "      <td>5900000005</td>\n",
              "      <td>4.560517</td>\n",
              "      <td>NaN</td>\n",
              "      <td>NaN</td>\n",
              "      <td>NaN</td>\n",
              "    </tr>\n",
              "    <tr>\n",
              "      <th>3</th>\n",
              "      <td>5900000002</td>\n",
              "      <td>3.982890</td>\n",
              "      <td>NaN</td>\n",
              "      <td>NaN</td>\n",
              "      <td>NaN</td>\n",
              "    </tr>\n",
              "  </tbody>\n",
              "</table>\n",
              "</div>"
            ],
            "text/plain": [
              "       ID_MTQ  Assumed Rating          HKK         MTQ  Rated\n",
              "0  5900000001        4.609480  00000000011  5900000004    5.0\n",
              "1  5900000003        4.587755          NaN         NaN    NaN\n",
              "2  5900000005        4.560517          NaN         NaN    NaN\n",
              "3  5900000002        3.982890          NaN         NaN    NaN"
            ]
          },
          "metadata": {
            "tags": []
          },
          "execution_count": 87
        }
      ]
    },
    {
      "cell_type": "code",
      "metadata": {
        "colab": {
          "base_uri": "https://localhost:8080/",
          "height": 110
        },
        "id": "tbJv4YtF8PwA",
        "outputId": "11ad477b-8b08-4d92-e213-e9dd159ce917"
      },
      "source": [
        "user_index = 5\n",
        "recommended_MTQ = get_recommendation(user_index)\n",
        "# nhận được những mạnh thường quân được người dùng đánh giá cao khác\n",
        "temp = data[data['ID_HKK']==df.index[user_index]].sort_values(\n",
        "    'Rating', ascending=False)[['Rating', 'ID_MTQ', 'ID_HKK']].iloc[:10].reset_index(drop=True)\n",
        "recommended_MTQ['HKK'] = temp['ID_HKK']\n",
        "recommended_MTQ['MTQ'] = temp['ID_MTQ']\n",
        "recommended_MTQ['Rated']= temp['Rating']\n",
        "recommended_MTQ"
      ],
      "execution_count": null,
      "outputs": [
        {
          "output_type": "execute_result",
          "data": {
            "text/html": [
              "<div>\n",
              "<style scoped>\n",
              "    .dataframe tbody tr th:only-of-type {\n",
              "        vertical-align: middle;\n",
              "    }\n",
              "\n",
              "    .dataframe tbody tr th {\n",
              "        vertical-align: top;\n",
              "    }\n",
              "\n",
              "    .dataframe thead th {\n",
              "        text-align: right;\n",
              "    }\n",
              "</style>\n",
              "<table border=\"1\" class=\"dataframe\">\n",
              "  <thead>\n",
              "    <tr style=\"text-align: right;\">\n",
              "      <th></th>\n",
              "      <th>ID_MTQ</th>\n",
              "      <th>Assumed Rating</th>\n",
              "      <th>HKK</th>\n",
              "      <th>MTQ</th>\n",
              "      <th>Rated</th>\n",
              "    </tr>\n",
              "  </thead>\n",
              "  <tbody>\n",
              "    <tr>\n",
              "      <th>0</th>\n",
              "      <td>5900000002</td>\n",
              "      <td>4.982999</td>\n",
              "      <td>00000000006</td>\n",
              "      <td>5900000001</td>\n",
              "      <td>5</td>\n",
              "    </tr>\n",
              "    <tr>\n",
              "      <th>1</th>\n",
              "      <td>5900000004</td>\n",
              "      <td>3.969190</td>\n",
              "      <td>00000000006</td>\n",
              "      <td>5900000003</td>\n",
              "      <td>5</td>\n",
              "    </tr>\n",
              "  </tbody>\n",
              "</table>\n",
              "</div>"
            ],
            "text/plain": [
              "       ID_MTQ  Assumed Rating          HKK         MTQ  Rated\n",
              "0  5900000002        4.982999  00000000006  5900000001      5\n",
              "1  5900000004        3.969190  00000000006  5900000003      5"
            ]
          },
          "metadata": {
            "tags": []
          },
          "execution_count": 89
        }
      ]
    },
    {
      "cell_type": "code",
      "metadata": {
        "id": "ELvTyO1J8mnt"
      },
      "source": [
        ""
      ],
      "execution_count": null,
      "outputs": []
    }
  ]
}